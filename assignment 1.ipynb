{
 "cells": [
  {
   "cell_type": "markdown",
   "id": "7f7db905",
   "metadata": {},
   "source": [
    "## Create a tuple called data with two values (1,2) & (3,4)"
   ]
  },
  {
   "cell_type": "code",
   "execution_count": 7,
   "id": "53a4dc1e",
   "metadata": {},
   "outputs": [
    {
     "name": "stdout",
     "output_type": "stream",
     "text": [
      "((1, 2), (3, 4))\n"
     ]
    },
    {
     "data": {
      "text/plain": [
       "tuple"
      ]
     },
     "execution_count": 7,
     "metadata": {},
     "output_type": "execute_result"
    }
   ],
   "source": [
    "data=((1,2),(3,4))\n",
    "print(data)\n",
    "type(data)"
   ]
  },
  {
   "cell_type": "markdown",
   "id": "c549399a",
   "metadata": {},
   "source": [
    "## create the list[4,3,2,1] & assign it to variable numbers"
   ]
  },
  {
   "cell_type": "code",
   "execution_count": 13,
   "id": "ad1047fc",
   "metadata": {},
   "outputs": [
    {
     "name": "stdout",
     "output_type": "stream",
     "text": [
      "[4, 3, 2, 1]\n"
     ]
    },
    {
     "data": {
      "text/plain": [
       "list"
      ]
     },
     "execution_count": 13,
     "metadata": {},
     "output_type": "execute_result"
    }
   ],
   "source": [
    "numbers=[4,3,2,1]\n",
    "print(numbers)\n",
    "type(numbers)"
   ]
  },
  {
   "cell_type": "markdown",
   "id": "072837d4",
   "metadata": {},
   "source": [
    "## create a copy of the number list using [:]"
   ]
  },
  {
   "cell_type": "code",
   "execution_count": 15,
   "id": "d42dac52",
   "metadata": {},
   "outputs": [
    {
     "data": {
      "text/plain": [
       "[4, 3, 2, 1]"
      ]
     },
     "execution_count": 15,
     "metadata": {},
     "output_type": "execute_result"
    }
   ],
   "source": [
    "numbers_copy=numbers[:]\n",
    "numbers_copy"
   ]
  },
  {
   "cell_type": "markdown",
   "id": "f91bc0eb",
   "metadata": {},
   "source": [
    "## sort the number list in numerical order"
   ]
  },
  {
   "cell_type": "code",
   "execution_count": 17,
   "id": "eb5162cf",
   "metadata": {},
   "outputs": [
    {
     "data": {
      "text/plain": [
       "[1, 2, 3, 4]"
      ]
     },
     "execution_count": 17,
     "metadata": {},
     "output_type": "execute_result"
    }
   ],
   "source": [
    "numbers.sort()\n",
    "numbers"
   ]
  },
  {
   "cell_type": "markdown",
   "id": "6218c210",
   "metadata": {},
   "source": [
    "## create a tuple \"cardinal_number\" with \"first\",\"second\",\"third\""
   ]
  },
  {
   "cell_type": "code",
   "execution_count": 20,
   "id": "ed58077c",
   "metadata": {},
   "outputs": [
    {
     "data": {
      "text/plain": [
       "('first', 'second', 'third')"
      ]
     },
     "execution_count": 20,
     "metadata": {},
     "output_type": "execute_result"
    }
   ],
   "source": [
    "cardinal_number=(\"first\",\"second\",\"third\")\n",
    "cardinal_number"
   ]
  },
  {
   "cell_type": "markdown",
   "id": "6800a8c6",
   "metadata": {},
   "source": [
    "## display the second object in the tuple"
   ]
  },
  {
   "cell_type": "code",
   "execution_count": 21,
   "id": "0aadb0ca",
   "metadata": {},
   "outputs": [
    {
     "data": {
      "text/plain": [
       "'second'"
      ]
     },
     "execution_count": 21,
     "metadata": {},
     "output_type": "execute_result"
    }
   ],
   "source": [
    "cardinal_number[1]"
   ]
  },
  {
   "cell_type": "markdown",
   "id": "c7f00c2e",
   "metadata": {},
   "source": [
    "## Unpack the tuple into three strings and display them"
   ]
  },
  {
   "cell_type": "code",
   "execution_count": 22,
   "id": "6a46ea98",
   "metadata": {},
   "outputs": [
    {
     "name": "stdout",
     "output_type": "stream",
     "text": [
      "first\n",
      "second\n",
      "third\n"
     ]
    }
   ],
   "source": [
    "position1,position2,position3=cardinal_numbers\n",
    "print(position1)\n",
    "print(position2)\n",
    "print(position3)"
   ]
  },
  {
   "cell_type": "markdown",
   "id": "e9fb853b",
   "metadata": {},
   "source": [
    "## create a tuple containing the letters of your name from a string"
   ]
  },
  {
   "cell_type": "code",
   "execution_count": 23,
   "id": "0e73a758",
   "metadata": {},
   "outputs": [
    {
     "data": {
      "text/plain": [
       "('N', 'e', 'e', 'r', 'a', 'j', ' ', 'j', 'a', 'n', 'g', 'r', 'a')"
      ]
     },
     "execution_count": 23,
     "metadata": {},
     "output_type": "execute_result"
    }
   ],
   "source": [
    "my_name=tuple(\"Neeraj jangra\")\n",
    "my_name"
   ]
  },
  {
   "cell_type": "markdown",
   "id": "1ab9c0ef",
   "metadata": {},
   "source": [
    "## check whether or not x is in my_name"
   ]
  },
  {
   "cell_type": "code",
   "execution_count": 24,
   "id": "301dff8b",
   "metadata": {},
   "outputs": [
    {
     "name": "stdout",
     "output_type": "stream",
     "text": [
      "False\n"
     ]
    }
   ],
   "source": [
    "print(\"x\" in my_name)"
   ]
  },
  {
   "cell_type": "code",
   "execution_count": 26,
   "id": "5086355a",
   "metadata": {},
   "outputs": [
    {
     "name": "stdout",
     "output_type": "stream",
     "text": [
      "False\n"
     ]
    }
   ],
   "source": [
    "print(\"s\" in my_name)"
   ]
  },
  {
   "cell_type": "code",
   "execution_count": 27,
   "id": "51f4d1ee",
   "metadata": {},
   "outputs": [
    {
     "name": "stdout",
     "output_type": "stream",
     "text": [
      "True\n"
     ]
    }
   ],
   "source": [
    "print(\"j\" in my_name)"
   ]
  },
  {
   "cell_type": "code",
   "execution_count": 28,
   "id": "4babf38a",
   "metadata": {},
   "outputs": [
    {
     "name": "stdout",
     "output_type": "stream",
     "text": [
      "True\n"
     ]
    }
   ],
   "source": [
    "print(\"x\" not in my_name)"
   ]
  },
  {
   "cell_type": "code",
   "execution_count": null,
   "id": "5517775b",
   "metadata": {},
   "outputs": [],
   "source": []
  }
 ],
 "metadata": {
  "kernelspec": {
   "display_name": "Python 3 (ipykernel)",
   "language": "python",
   "name": "python3"
  },
  "language_info": {
   "codemirror_mode": {
    "name": "ipython",
    "version": 3
   },
   "file_extension": ".py",
   "mimetype": "text/x-python",
   "name": "python",
   "nbconvert_exporter": "python",
   "pygments_lexer": "ipython3",
   "version": "3.10.9"
  }
 },
 "nbformat": 4,
 "nbformat_minor": 5
}
