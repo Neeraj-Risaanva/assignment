{
 "cells": [
  {
   "cell_type": "code",
   "execution_count": 1,
   "id": "258a9063",
   "metadata": {},
   "outputs": [],
   "source": [
    "import numpy as np\n",
    "import pandas as pd\n",
    "import matplotlib.pyplot as plt\n",
    "%matplotlib inline\n",
    "import seaborn as sns\n",
    "from sklearn.model_selection import train_test_split\n",
    "from sklearn.linear_model import LinearRegression"
   ]
  },
  {
   "cell_type": "code",
   "execution_count": 2,
   "id": "96171d77",
   "metadata": {},
   "outputs": [],
   "source": [
    "library_inventory = {\n",
    "    \"Book1\": 5,\n",
    "    \"Book2\": 3,\n",
    "    \"Book3\": 7,}"
   ]
  },
  {
   "cell_type": "code",
   "execution_count": 3,
   "id": "4f5fc3ff",
   "metadata": {},
   "outputs": [],
   "source": [
    "def display_books():\n",
    "    print(\"Available Books:\")\n",
    "    for book, quantity in library_inventory.items():\n",
    "        print(f\"{book}: {quantity} available\")"
   ]
  },
  {
   "cell_type": "code",
   "execution_count": 4,
   "id": "6854974e",
   "metadata": {},
   "outputs": [],
   "source": [
    "def borrow_book(book_title):\n",
    "    if book_title in library_inventory and library_inventory[book_title] > 0:\n",
    "        library_inventory[book_title] -= 1\n",
    "        print(f\"You have successfully borrowed {book_title}.\")\n",
    "    else:\n",
    "        print(f\"Sorry, {book_title} is not available for borrowing.\")\n"
   ]
  },
  {
   "cell_type": "code",
   "execution_count": 5,
   "id": "a672320f",
   "metadata": {},
   "outputs": [],
   "source": [
    "def return_book(book_title):\n",
    "    if book_title in library_inventory:\n",
    "        library_inventory[book_title] += 1\n",
    "        print(f\"Thank you for returning {book_title}.\")\n",
    "    else:\n",
    "        print(\"Invalid book title.\")"
   ]
  },
  {
   "cell_type": "code",
   "execution_count": 6,
   "id": "1e48113f",
   "metadata": {},
   "outputs": [
    {
     "name": "stdout",
     "output_type": "stream",
     "text": [
      "\n",
      "Library Management System Menu:\n",
      "1. Display available books\n",
      "2. Borrow a book\n",
      "3. Return a book\n",
      "4. Exit\n",
      "Enter your choice (1-4): 1\n",
      "Available Books:\n",
      "Book1: 5 available\n",
      "Book2: 3 available\n",
      "Book3: 7 available\n",
      "\n",
      "Library Management System Menu:\n",
      "1. Display available books\n",
      "2. Borrow a book\n",
      "3. Return a book\n",
      "4. Exit\n",
      "Enter your choice (1-4): 2\n",
      "Enter the title of the book you want to borrow: 3\n",
      "Sorry, 3 is not available for borrowing.\n",
      "\n",
      "Library Management System Menu:\n",
      "1. Display available books\n",
      "2. Borrow a book\n",
      "3. Return a book\n",
      "4. Exit\n",
      "Enter your choice (1-4): 4\n",
      "Exiting the Library Management System. Goodbye!\n"
     ]
    }
   ],
   "source": [
    "while True:\n",
    "    print(\"\\nLibrary Management System Menu:\")\n",
    "    print(\"1. Display available books\")\n",
    "    print(\"2. Borrow a book\")\n",
    "    print(\"3. Return a book\")\n",
    "    print(\"4. Exit\")\n",
    "\n",
    "    choice = input(\"Enter your choice (1-4): \")\n",
    "\n",
    "    if choice == \"1\":\n",
    "        display_books()\n",
    "    elif choice == \"2\":\n",
    "        book_to_borrow = input(\"Enter the title of the book you want to borrow: \")\n",
    "        borrow_book(book_to_borrow)\n",
    "    elif choice == \"3\":\n",
    "        book_to_return = input(\"Enter the title of the book you want to return: \")\n",
    "        return_book(book_to_return)\n",
    "    elif choice == \"4\":\n",
    "        print(\"Exiting the Library Management System. Goodbye!\")\n",
    "        break\n",
    "    else:\n",
    "        print(\"Invalid choice. Please enter a number between 1 and 4.\")"
   ]
  },
  {
   "cell_type": "code",
   "execution_count": null,
   "id": "8eb1b3eb",
   "metadata": {},
   "outputs": [],
   "source": []
  }
 ],
 "metadata": {
  "kernelspec": {
   "display_name": "Python 3 (ipykernel)",
   "language": "python",
   "name": "python3"
  },
  "language_info": {
   "codemirror_mode": {
    "name": "ipython",
    "version": 3
   },
   "file_extension": ".py",
   "mimetype": "text/x-python",
   "name": "python",
   "nbconvert_exporter": "python",
   "pygments_lexer": "ipython3",
   "version": "3.10.9"
  }
 },
 "nbformat": 4,
 "nbformat_minor": 5
}
